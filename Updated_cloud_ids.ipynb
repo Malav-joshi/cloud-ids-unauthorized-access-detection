{
  "nbformat": 4,
  "nbformat_minor": 0,
  "metadata": {
    "colab": {
      "provenance": []
    },
    "kernelspec": {
      "name": "python3",
      "display_name": "Python 3"
    },
    "language_info": {
      "name": "python"
    }
  },
  "cells": [
    {
      "cell_type": "code",
      "source": [
        "from google.colab import drive\n",
        "drive.mount('/content/drive')"
      ],
      "metadata": {
        "colab": {
          "base_uri": "https://localhost:8080/"
        },
        "id": "5IzGZuqLRgi8",
        "outputId": "ba731509-b746-42b6-bc0e-c4686ec7ed23"
      },
      "execution_count": null,
      "outputs": [
        {
          "output_type": "stream",
          "name": "stdout",
          "text": [
            "Mounted at /content/drive\n"
          ]
        }
      ]
    },
    {
      "cell_type": "code",
      "source": [
        "# Step 0: Install required libraries\n",
        "!pip install xgboost --quiet\n",
        "!pip install scikit-learn --quiet\n",
        "!pip install tensorflow --quiet\n",
        "\n",
        "import pandas as pd\n",
        "import numpy as np\n",
        "import matplotlib.pyplot as plt\n",
        "import seaborn as sns\n",
        "\n",
        "from sklearn.model_selection import train_test_split\n",
        "from sklearn.preprocessing import LabelEncoder, StandardScaler\n",
        "from sklearn.ensemble import IsolationForest, RandomForestClassifier\n",
        "from xgboost import XGBClassifier\n",
        "from sklearn.metrics import classification_report, confusion_matrix, accuracy_score\n",
        "\n",
        "from tensorflow.keras.models import Sequential, Model\n",
        "from tensorflow.keras.layers import Dense, Dropout, LSTM, GRU, Input\n",
        "from tensorflow.keras.callbacks import EarlyStopping\n"
      ],
      "metadata": {
        "id": "1ekhgv0lUa-h"
      },
      "execution_count": null,
      "outputs": []
    },
    {
      "cell_type": "code",
      "source": [
        "# Step 1: Load the dataset\n",
        "df = pd.read_csv(\"/content/drive/MyDrive/dec12_18features.csv\")  # Upload your Kaggle dataset to Colab\n",
        "print(df.shape)\n",
        "df.head()\n"
      ],
      "metadata": {
        "colab": {
          "base_uri": "https://localhost:8080/",
          "height": 486
        },
        "id": "-FN9Po9jUk47",
        "outputId": "941680bc-bf57-4d9e-db96-2be37d9ddc35"
      },
      "execution_count": null,
      "outputs": [
        {
          "output_type": "stream",
          "name": "stdout",
          "text": [
            "(1939207, 18)\n"
          ]
        },
        {
          "output_type": "execute_result",
          "data": {
            "text/plain": [
              "                                eventID eventTime sourceIPAddress  \\\n",
              "0  3038ebd2-c98a-4c65-9b6e-e22506292313   2017-02         255.253   \n",
              "1  22a0d9b1-deea-4d39-827b-2af7050ed3f3   2017-02         255.253   \n",
              "2  9facf7ca-cb76-4b19-940c-3de6803f7efb   2017-02         255.253   \n",
              "3  6596d3b4-7c98-40b1-867d-f317f1dbdc18   2017-02         255.253   \n",
              "4  9f9d038c-e5a5-443e-83d5-4cf00941d399   2017-02         255.253   \n",
              "\n",
              "               userAgent                 eventName        eventSource  \\\n",
              "0             [S3Console               ListBuckets   s3.amazonaws.com   \n",
              "1  console.amazonaws.com  GetAccountPasswordPolicy  iam.amazonaws.com   \n",
              "2  console.amazonaws.com         GetAccountSummary  iam.amazonaws.com   \n",
              "3  console.amazonaws.com        ListAccountAliases  iam.amazonaws.com   \n",
              "4  console.amazonaws.com            ListMFADevices  iam.amazonaws.com   \n",
              "\n",
              "   awsRegion  eventVersion userIdentitytype   eventType userIdentityaccountId  \\\n",
              "0  us-east-1          1.04             Root  AwsApiCall        811596193553.0   \n",
              "1  us-east-1          1.02             Root  AwsApiCall        811596193553.0   \n",
              "2  us-east-1          1.02             Root  AwsApiCall        811596193553.0   \n",
              "3  us-east-1          1.02             Root  AwsApiCall        811596193553.0   \n",
              "4  us-east-1          1.02             Root  AwsApiCall        811596193553.0   \n",
              "\n",
              "  userIdentityprincipalId                 userIdentityarn  \\\n",
              "0            811596193553  arn:aws:iam::811596193553:root   \n",
              "1            811596193553  arn:aws:iam::811596193553:root   \n",
              "2            811596193553  arn:aws:iam::811596193553:root   \n",
              "3            811596193553  arn:aws:iam::811596193553:root   \n",
              "4            811596193553  arn:aws:iam::811596193553:root   \n",
              "\n",
              "  userIdentityaccessKeyId userIdentityuserName              errorCode  \\\n",
              "0                 Unknown              Unknown                    NaN   \n",
              "1    ASIA79EXPHZ8SRL55OOE              Unknown  NoSuchEntityException   \n",
              "2    ASIA79EXPHZ8SRL55OOE              Unknown                    NaN   \n",
              "3    ASIA79EXPHZ8SRL55OOE              Unknown                    NaN   \n",
              "4    ASIA79EXPHZ8SRL55OOE              Unknown                    NaN   \n",
              "\n",
              "                                        errorMessage  \\\n",
              "0                                            NoError   \n",
              "1  The Password Policy with domain name 811596193...   \n",
              "2                                            NoError   \n",
              "3                                            NoError   \n",
              "4                                            NoError   \n",
              "\n",
              "  requestParametersinstanceType  \n",
              "0                 NotApplicable  \n",
              "1                 NotApplicable  \n",
              "2                 NotApplicable  \n",
              "3                 NotApplicable  \n",
              "4                 NotApplicable  "
            ],
            "text/html": [
              "\n",
              "  <div id=\"df-f508611e-97ba-4910-bc32-e88483f1f36d\" class=\"colab-df-container\">\n",
              "    <div>\n",
              "<style scoped>\n",
              "    .dataframe tbody tr th:only-of-type {\n",
              "        vertical-align: middle;\n",
              "    }\n",
              "\n",
              "    .dataframe tbody tr th {\n",
              "        vertical-align: top;\n",
              "    }\n",
              "\n",
              "    .dataframe thead th {\n",
              "        text-align: right;\n",
              "    }\n",
              "</style>\n",
              "<table border=\"1\" class=\"dataframe\">\n",
              "  <thead>\n",
              "    <tr style=\"text-align: right;\">\n",
              "      <th></th>\n",
              "      <th>eventID</th>\n",
              "      <th>eventTime</th>\n",
              "      <th>sourceIPAddress</th>\n",
              "      <th>userAgent</th>\n",
              "      <th>eventName</th>\n",
              "      <th>eventSource</th>\n",
              "      <th>awsRegion</th>\n",
              "      <th>eventVersion</th>\n",
              "      <th>userIdentitytype</th>\n",
              "      <th>eventType</th>\n",
              "      <th>userIdentityaccountId</th>\n",
              "      <th>userIdentityprincipalId</th>\n",
              "      <th>userIdentityarn</th>\n",
              "      <th>userIdentityaccessKeyId</th>\n",
              "      <th>userIdentityuserName</th>\n",
              "      <th>errorCode</th>\n",
              "      <th>errorMessage</th>\n",
              "      <th>requestParametersinstanceType</th>\n",
              "    </tr>\n",
              "  </thead>\n",
              "  <tbody>\n",
              "    <tr>\n",
              "      <th>0</th>\n",
              "      <td>3038ebd2-c98a-4c65-9b6e-e22506292313</td>\n",
              "      <td>2017-02</td>\n",
              "      <td>255.253</td>\n",
              "      <td>[S3Console</td>\n",
              "      <td>ListBuckets</td>\n",
              "      <td>s3.amazonaws.com</td>\n",
              "      <td>us-east-1</td>\n",
              "      <td>1.04</td>\n",
              "      <td>Root</td>\n",
              "      <td>AwsApiCall</td>\n",
              "      <td>811596193553.0</td>\n",
              "      <td>811596193553</td>\n",
              "      <td>arn:aws:iam::811596193553:root</td>\n",
              "      <td>Unknown</td>\n",
              "      <td>Unknown</td>\n",
              "      <td>NaN</td>\n",
              "      <td>NoError</td>\n",
              "      <td>NotApplicable</td>\n",
              "    </tr>\n",
              "    <tr>\n",
              "      <th>1</th>\n",
              "      <td>22a0d9b1-deea-4d39-827b-2af7050ed3f3</td>\n",
              "      <td>2017-02</td>\n",
              "      <td>255.253</td>\n",
              "      <td>console.amazonaws.com</td>\n",
              "      <td>GetAccountPasswordPolicy</td>\n",
              "      <td>iam.amazonaws.com</td>\n",
              "      <td>us-east-1</td>\n",
              "      <td>1.02</td>\n",
              "      <td>Root</td>\n",
              "      <td>AwsApiCall</td>\n",
              "      <td>811596193553.0</td>\n",
              "      <td>811596193553</td>\n",
              "      <td>arn:aws:iam::811596193553:root</td>\n",
              "      <td>ASIA79EXPHZ8SRL55OOE</td>\n",
              "      <td>Unknown</td>\n",
              "      <td>NoSuchEntityException</td>\n",
              "      <td>The Password Policy with domain name 811596193...</td>\n",
              "      <td>NotApplicable</td>\n",
              "    </tr>\n",
              "    <tr>\n",
              "      <th>2</th>\n",
              "      <td>9facf7ca-cb76-4b19-940c-3de6803f7efb</td>\n",
              "      <td>2017-02</td>\n",
              "      <td>255.253</td>\n",
              "      <td>console.amazonaws.com</td>\n",
              "      <td>GetAccountSummary</td>\n",
              "      <td>iam.amazonaws.com</td>\n",
              "      <td>us-east-1</td>\n",
              "      <td>1.02</td>\n",
              "      <td>Root</td>\n",
              "      <td>AwsApiCall</td>\n",
              "      <td>811596193553.0</td>\n",
              "      <td>811596193553</td>\n",
              "      <td>arn:aws:iam::811596193553:root</td>\n",
              "      <td>ASIA79EXPHZ8SRL55OOE</td>\n",
              "      <td>Unknown</td>\n",
              "      <td>NaN</td>\n",
              "      <td>NoError</td>\n",
              "      <td>NotApplicable</td>\n",
              "    </tr>\n",
              "    <tr>\n",
              "      <th>3</th>\n",
              "      <td>6596d3b4-7c98-40b1-867d-f317f1dbdc18</td>\n",
              "      <td>2017-02</td>\n",
              "      <td>255.253</td>\n",
              "      <td>console.amazonaws.com</td>\n",
              "      <td>ListAccountAliases</td>\n",
              "      <td>iam.amazonaws.com</td>\n",
              "      <td>us-east-1</td>\n",
              "      <td>1.02</td>\n",
              "      <td>Root</td>\n",
              "      <td>AwsApiCall</td>\n",
              "      <td>811596193553.0</td>\n",
              "      <td>811596193553</td>\n",
              "      <td>arn:aws:iam::811596193553:root</td>\n",
              "      <td>ASIA79EXPHZ8SRL55OOE</td>\n",
              "      <td>Unknown</td>\n",
              "      <td>NaN</td>\n",
              "      <td>NoError</td>\n",
              "      <td>NotApplicable</td>\n",
              "    </tr>\n",
              "    <tr>\n",
              "      <th>4</th>\n",
              "      <td>9f9d038c-e5a5-443e-83d5-4cf00941d399</td>\n",
              "      <td>2017-02</td>\n",
              "      <td>255.253</td>\n",
              "      <td>console.amazonaws.com</td>\n",
              "      <td>ListMFADevices</td>\n",
              "      <td>iam.amazonaws.com</td>\n",
              "      <td>us-east-1</td>\n",
              "      <td>1.02</td>\n",
              "      <td>Root</td>\n",
              "      <td>AwsApiCall</td>\n",
              "      <td>811596193553.0</td>\n",
              "      <td>811596193553</td>\n",
              "      <td>arn:aws:iam::811596193553:root</td>\n",
              "      <td>ASIA79EXPHZ8SRL55OOE</td>\n",
              "      <td>Unknown</td>\n",
              "      <td>NaN</td>\n",
              "      <td>NoError</td>\n",
              "      <td>NotApplicable</td>\n",
              "    </tr>\n",
              "  </tbody>\n",
              "</table>\n",
              "</div>\n",
              "    <div class=\"colab-df-buttons\">\n",
              "\n",
              "  <div class=\"colab-df-container\">\n",
              "    <button class=\"colab-df-convert\" onclick=\"convertToInteractive('df-f508611e-97ba-4910-bc32-e88483f1f36d')\"\n",
              "            title=\"Convert this dataframe to an interactive table.\"\n",
              "            style=\"display:none;\">\n",
              "\n",
              "  <svg xmlns=\"http://www.w3.org/2000/svg\" height=\"24px\" viewBox=\"0 -960 960 960\">\n",
              "    <path d=\"M120-120v-720h720v720H120Zm60-500h600v-160H180v160Zm220 220h160v-160H400v160Zm0 220h160v-160H400v160ZM180-400h160v-160H180v160Zm440 0h160v-160H620v160ZM180-180h160v-160H180v160Zm440 0h160v-160H620v160Z\"/>\n",
              "  </svg>\n",
              "    </button>\n",
              "\n",
              "  <style>\n",
              "    .colab-df-container {\n",
              "      display:flex;\n",
              "      gap: 12px;\n",
              "    }\n",
              "\n",
              "    .colab-df-convert {\n",
              "      background-color: #E8F0FE;\n",
              "      border: none;\n",
              "      border-radius: 50%;\n",
              "      cursor: pointer;\n",
              "      display: none;\n",
              "      fill: #1967D2;\n",
              "      height: 32px;\n",
              "      padding: 0 0 0 0;\n",
              "      width: 32px;\n",
              "    }\n",
              "\n",
              "    .colab-df-convert:hover {\n",
              "      background-color: #E2EBFA;\n",
              "      box-shadow: 0px 1px 2px rgba(60, 64, 67, 0.3), 0px 1px 3px 1px rgba(60, 64, 67, 0.15);\n",
              "      fill: #174EA6;\n",
              "    }\n",
              "\n",
              "    .colab-df-buttons div {\n",
              "      margin-bottom: 4px;\n",
              "    }\n",
              "\n",
              "    [theme=dark] .colab-df-convert {\n",
              "      background-color: #3B4455;\n",
              "      fill: #D2E3FC;\n",
              "    }\n",
              "\n",
              "    [theme=dark] .colab-df-convert:hover {\n",
              "      background-color: #434B5C;\n",
              "      box-shadow: 0px 1px 3px 1px rgba(0, 0, 0, 0.15);\n",
              "      filter: drop-shadow(0px 1px 2px rgba(0, 0, 0, 0.3));\n",
              "      fill: #FFFFFF;\n",
              "    }\n",
              "  </style>\n",
              "\n",
              "    <script>\n",
              "      const buttonEl =\n",
              "        document.querySelector('#df-f508611e-97ba-4910-bc32-e88483f1f36d button.colab-df-convert');\n",
              "      buttonEl.style.display =\n",
              "        google.colab.kernel.accessAllowed ? 'block' : 'none';\n",
              "\n",
              "      async function convertToInteractive(key) {\n",
              "        const element = document.querySelector('#df-f508611e-97ba-4910-bc32-e88483f1f36d');\n",
              "        const dataTable =\n",
              "          await google.colab.kernel.invokeFunction('convertToInteractive',\n",
              "                                                    [key], {});\n",
              "        if (!dataTable) return;\n",
              "\n",
              "        const docLinkHtml = 'Like what you see? Visit the ' +\n",
              "          '<a target=\"_blank\" href=https://colab.research.google.com/notebooks/data_table.ipynb>data table notebook</a>'\n",
              "          + ' to learn more about interactive tables.';\n",
              "        element.innerHTML = '';\n",
              "        dataTable['output_type'] = 'display_data';\n",
              "        await google.colab.output.renderOutput(dataTable, element);\n",
              "        const docLink = document.createElement('div');\n",
              "        docLink.innerHTML = docLinkHtml;\n",
              "        element.appendChild(docLink);\n",
              "      }\n",
              "    </script>\n",
              "  </div>\n",
              "\n",
              "\n",
              "    <div id=\"df-5a0900f6-904a-4e9d-808b-a6b2ac2b918c\">\n",
              "      <button class=\"colab-df-quickchart\" onclick=\"quickchart('df-5a0900f6-904a-4e9d-808b-a6b2ac2b918c')\"\n",
              "                title=\"Suggest charts\"\n",
              "                style=\"display:none;\">\n",
              "\n",
              "<svg xmlns=\"http://www.w3.org/2000/svg\" height=\"24px\"viewBox=\"0 0 24 24\"\n",
              "     width=\"24px\">\n",
              "    <g>\n",
              "        <path d=\"M19 3H5c-1.1 0-2 .9-2 2v14c0 1.1.9 2 2 2h14c1.1 0 2-.9 2-2V5c0-1.1-.9-2-2-2zM9 17H7v-7h2v7zm4 0h-2V7h2v10zm4 0h-2v-4h2v4z\"/>\n",
              "    </g>\n",
              "</svg>\n",
              "      </button>\n",
              "\n",
              "<style>\n",
              "  .colab-df-quickchart {\n",
              "      --bg-color: #E8F0FE;\n",
              "      --fill-color: #1967D2;\n",
              "      --hover-bg-color: #E2EBFA;\n",
              "      --hover-fill-color: #174EA6;\n",
              "      --disabled-fill-color: #AAA;\n",
              "      --disabled-bg-color: #DDD;\n",
              "  }\n",
              "\n",
              "  [theme=dark] .colab-df-quickchart {\n",
              "      --bg-color: #3B4455;\n",
              "      --fill-color: #D2E3FC;\n",
              "      --hover-bg-color: #434B5C;\n",
              "      --hover-fill-color: #FFFFFF;\n",
              "      --disabled-bg-color: #3B4455;\n",
              "      --disabled-fill-color: #666;\n",
              "  }\n",
              "\n",
              "  .colab-df-quickchart {\n",
              "    background-color: var(--bg-color);\n",
              "    border: none;\n",
              "    border-radius: 50%;\n",
              "    cursor: pointer;\n",
              "    display: none;\n",
              "    fill: var(--fill-color);\n",
              "    height: 32px;\n",
              "    padding: 0;\n",
              "    width: 32px;\n",
              "  }\n",
              "\n",
              "  .colab-df-quickchart:hover {\n",
              "    background-color: var(--hover-bg-color);\n",
              "    box-shadow: 0 1px 2px rgba(60, 64, 67, 0.3), 0 1px 3px 1px rgba(60, 64, 67, 0.15);\n",
              "    fill: var(--button-hover-fill-color);\n",
              "  }\n",
              "\n",
              "  .colab-df-quickchart-complete:disabled,\n",
              "  .colab-df-quickchart-complete:disabled:hover {\n",
              "    background-color: var(--disabled-bg-color);\n",
              "    fill: var(--disabled-fill-color);\n",
              "    box-shadow: none;\n",
              "  }\n",
              "\n",
              "  .colab-df-spinner {\n",
              "    border: 2px solid var(--fill-color);\n",
              "    border-color: transparent;\n",
              "    border-bottom-color: var(--fill-color);\n",
              "    animation:\n",
              "      spin 1s steps(1) infinite;\n",
              "  }\n",
              "\n",
              "  @keyframes spin {\n",
              "    0% {\n",
              "      border-color: transparent;\n",
              "      border-bottom-color: var(--fill-color);\n",
              "      border-left-color: var(--fill-color);\n",
              "    }\n",
              "    20% {\n",
              "      border-color: transparent;\n",
              "      border-left-color: var(--fill-color);\n",
              "      border-top-color: var(--fill-color);\n",
              "    }\n",
              "    30% {\n",
              "      border-color: transparent;\n",
              "      border-left-color: var(--fill-color);\n",
              "      border-top-color: var(--fill-color);\n",
              "      border-right-color: var(--fill-color);\n",
              "    }\n",
              "    40% {\n",
              "      border-color: transparent;\n",
              "      border-right-color: var(--fill-color);\n",
              "      border-top-color: var(--fill-color);\n",
              "    }\n",
              "    60% {\n",
              "      border-color: transparent;\n",
              "      border-right-color: var(--fill-color);\n",
              "    }\n",
              "    80% {\n",
              "      border-color: transparent;\n",
              "      border-right-color: var(--fill-color);\n",
              "      border-bottom-color: var(--fill-color);\n",
              "    }\n",
              "    90% {\n",
              "      border-color: transparent;\n",
              "      border-bottom-color: var(--fill-color);\n",
              "    }\n",
              "  }\n",
              "</style>\n",
              "\n",
              "      <script>\n",
              "        async function quickchart(key) {\n",
              "          const quickchartButtonEl =\n",
              "            document.querySelector('#' + key + ' button');\n",
              "          quickchartButtonEl.disabled = true;  // To prevent multiple clicks.\n",
              "          quickchartButtonEl.classList.add('colab-df-spinner');\n",
              "          try {\n",
              "            const charts = await google.colab.kernel.invokeFunction(\n",
              "                'suggestCharts', [key], {});\n",
              "          } catch (error) {\n",
              "            console.error('Error during call to suggestCharts:', error);\n",
              "          }\n",
              "          quickchartButtonEl.classList.remove('colab-df-spinner');\n",
              "          quickchartButtonEl.classList.add('colab-df-quickchart-complete');\n",
              "        }\n",
              "        (() => {\n",
              "          let quickchartButtonEl =\n",
              "            document.querySelector('#df-5a0900f6-904a-4e9d-808b-a6b2ac2b918c button');\n",
              "          quickchartButtonEl.style.display =\n",
              "            google.colab.kernel.accessAllowed ? 'block' : 'none';\n",
              "        })();\n",
              "      </script>\n",
              "    </div>\n",
              "\n",
              "    </div>\n",
              "  </div>\n"
            ],
            "application/vnd.google.colaboratory.intrinsic+json": {
              "type": "dataframe",
              "variable_name": "df"
            }
          },
          "metadata": {},
          "execution_count": 8
        }
      ]
    },
    {
      "cell_type": "markdown",
      "source": [
        "# Dataset Cleaning & Lable Setup"
      ],
      "metadata": {
        "id": "jw3I8qVkU1_U"
      }
    },
    {
      "cell_type": "code",
      "source": [
        "# Fill missing values\n",
        "df.fillna(\"Unknown\", inplace=True)\n",
        "\n",
        "# Drop unhelpful columns\n",
        "df.drop(['eventID', 'requestID'], axis=1, errors='ignore', inplace=True)\n",
        "\n",
        "# Assume label is in 'errorCode' (attack if not null)\n",
        "df['label'] = df['errorCode'].apply(lambda x: 0 if x == \"Unknown\" else 1)\n"
      ],
      "metadata": {
        "id": "a_wYnMO0Uzqu"
      },
      "execution_count": null,
      "outputs": []
    },
    {
      "cell_type": "code",
      "source": [
        "print(df.columns.tolist())\n"
      ],
      "metadata": {
        "colab": {
          "base_uri": "https://localhost:8080/"
        },
        "id": "AdC5qO8xVSjb",
        "outputId": "6262cede-7c35-4d8d-f10e-e0142c4b87b9"
      },
      "execution_count": null,
      "outputs": [
        {
          "output_type": "stream",
          "name": "stdout",
          "text": [
            "['eventTime', 'sourceIPAddress', 'userAgent', 'eventName', 'eventSource', 'awsRegion', 'eventVersion', 'userIdentitytype', 'eventType', 'userIdentityaccountId', 'userIdentityprincipalId', 'userIdentityarn', 'userIdentityaccessKeyId', 'userIdentityuserName', 'errorCode', 'errorMessage', 'requestParametersinstanceType', 'label', 'hour', 'day', 'weekday', 'is_weekend', 'is_night']\n"
          ]
        }
      ]
    },
    {
      "cell_type": "markdown",
      "source": [
        "# Feature Extraction"
      ],
      "metadata": {
        "id": "oZx85kOBVCci"
      }
    },
    {
      "cell_type": "code",
      "source": [
        "# STEP 3: Feature Extraction\n",
        "\n",
        "# Ensure datetime conversion\n",
        "df['eventTime'] = pd.to_datetime(df['eventTime'], errors='coerce')\n",
        "\n",
        "# Time-based features (already created earlier)\n",
        "# Keeping in case re-run is needed\n",
        "df['hour'] = df['eventTime'].dt.hour\n",
        "df['day'] = df['eventTime'].dt.day\n",
        "df['weekday'] = df['eventTime'].dt.weekday\n",
        "df['is_weekend'] = df['weekday'].isin([5, 6]).astype(int)\n",
        "df['is_night'] = df['hour'].apply(lambda x: 1 if x < 6 or x > 22 else 0)\n",
        "\n",
        "# User frequency feature\n",
        "user_counts = df['userIdentityuserName'].value_counts().to_dict()\n",
        "df['user_event_freq'] = df['userIdentityuserName'].map(user_counts)\n",
        "\n",
        "# IP Type feature (internal vs external)\n",
        "df['ip_type'] = df['sourceIPAddress'].apply(\n",
        "    lambda x: 'internal' if str(x).startswith(('10.', '192.', '172.')) else 'external'\n",
        ")\n",
        "\n",
        "# Fill missing values\n",
        "df.fillna(\"Unknown\", inplace=True)\n"
      ],
      "metadata": {
        "id": "bgkRp378VFLh"
      },
      "execution_count": null,
      "outputs": []
    },
    {
      "cell_type": "markdown",
      "source": [
        "# Encoding + Scalling"
      ],
      "metadata": {
        "id": "3bfrYO6DV7KB"
      }
    },
    {
      "cell_type": "code",
      "source": [
        "from sklearn.preprocessing import LabelEncoder, StandardScaler\n",
        "\n",
        "# ✅ Correct list of categorical columns\n",
        "cat_cols = ['eventName', 'eventSource', 'awsRegion', 'userIdentitytype', 'eventType', 'ip_type']\n",
        "\n",
        "# Label encode categorical columns\n",
        "for col in cat_cols:\n",
        "    if col in df.columns:\n",
        "        df[col] = LabelEncoder().fit_transform(df[col])\n",
        "    else:\n",
        "        print(f\"⚠️ Warning: Column '{col}' not found, skipping encoding.\")\n",
        "\n",
        "# ✅ Final feature set\n",
        "features = [\n",
        "    'eventName', 'eventSource', 'awsRegion', 'userIdentitytype', 'eventType',\n",
        "    'hour', 'day', 'weekday', 'is_weekend', 'is_night',\n",
        "    'user_event_freq', 'ip_type'\n",
        "]\n",
        "\n",
        "# Filter only columns that exist in the dataframe (safety check)\n",
        "features = [f for f in features if f in df.columns]\n",
        "\n",
        "X = df[features]\n",
        "y = df['label']\n",
        "\n",
        "# ✅ Standardize features\n",
        "scaler = StandardScaler()\n",
        "X_scaled = scaler.fit_transform(X)\n"
      ],
      "metadata": {
        "id": "J8BTk1KeVlwn"
      },
      "execution_count": null,
      "outputs": []
    },
    {
      "cell_type": "markdown",
      "source": [
        "# Outlier Detection & Removal"
      ],
      "metadata": {
        "id": "WCUZuv6jWXx_"
      }
    },
    {
      "cell_type": "code",
      "source": [
        "from sklearn.ensemble import IsolationForest\n",
        "\n",
        "# Step 5: Detect and remove outliers\n",
        "iso = IsolationForest(contamination=0.01, random_state=42)\n",
        "yhat = iso.fit_predict(X_scaled)\n",
        "\n",
        "# Create a mask for inliers (i.e., non-outliers)\n",
        "mask = yhat != -1\n",
        "\n",
        "# Filter the data\n",
        "X_clean = X_scaled[mask]\n",
        "y_clean = y[mask]\n",
        "\n",
        "# Optional: Print shape before/after\n",
        "print(\"Original shape:\", X_scaled.shape)\n",
        "print(\"After removing outliers:\", X_clean.shape)\n"
      ],
      "metadata": {
        "colab": {
          "base_uri": "https://localhost:8080/"
        },
        "id": "yfH0L4jBWZBY",
        "outputId": "fc786cd4-2546-4320-88cf-b40c3b553b32"
      },
      "execution_count": null,
      "outputs": [
        {
          "output_type": "stream",
          "name": "stdout",
          "text": [
            "Original shape: (1939207, 12)\n",
            "After removing outliers: (1927265, 12)\n"
          ]
        }
      ]
    },
    {
      "cell_type": "markdown",
      "source": [
        "# Train-Test Split"
      ],
      "metadata": {
        "id": "RWgTuAzdWvlK"
      }
    },
    {
      "cell_type": "code",
      "source": [
        "from sklearn.model_selection import train_test_split\n",
        "\n",
        "# Step 6: Train-test split (after outlier removal)\n",
        "X_train, X_test, y_train, y_test = train_test_split(\n",
        "    X_clean, y_clean, test_size=0.2, random_state=42, stratify=y_clean\n",
        ")\n",
        "\n",
        "# Check shapes\n",
        "print(\"Training set:\", X_train.shape)\n",
        "print(\"Test set:\", X_test.shape)\n"
      ],
      "metadata": {
        "colab": {
          "base_uri": "https://localhost:8080/"
        },
        "id": "9PGzN-6tWwzW",
        "outputId": "bd213d7d-fe2c-424a-8cd9-0834ed7ed6ee"
      },
      "execution_count": null,
      "outputs": [
        {
          "output_type": "stream",
          "name": "stdout",
          "text": [
            "Training set: (1541812, 12)\n",
            "Test set: (385453, 12)\n"
          ]
        }
      ]
    },
    {
      "cell_type": "markdown",
      "source": [
        "# Random Forest Classifier"
      ],
      "metadata": {
        "id": "pEssl3mCXDqY"
      }
    },
    {
      "cell_type": "code",
      "source": [
        "from sklearn.ensemble import RandomForestClassifier\n",
        "from sklearn.metrics import classification_report, confusion_matrix, accuracy_score\n",
        "\n",
        "# Step 7: Train a Random Forest model\n",
        "rf = RandomForestClassifier(\n",
        "    n_estimators=100,\n",
        "    max_depth=None,         # or set to something like 20\n",
        "    random_state=42,\n",
        "    n_jobs=-1,\n",
        "    class_weight='balanced' # handles class imbalance if any\n",
        ")\n",
        "rf.fit(X_train, y_train)\n",
        "\n",
        "# Predict on test set\n",
        "y_pred_rf = rf.predict(X_test)\n",
        "\n",
        "# Evaluation\n",
        "print(\"📊 Random Forest Evaluation Metrics:\\n\")\n",
        "print(classification_report(y_test, y_pred_rf))\n",
        "print(\"Confusion Matrix:\\n\", confusion_matrix(y_test, y_pred_rf))\n",
        "print(\"Accuracy: {:.2f}%\".format(accuracy_score(y_test, y_pred_rf) * 100))\n"
      ],
      "metadata": {
        "colab": {
          "base_uri": "https://localhost:8080/"
        },
        "id": "VyZEVdqfXFAg",
        "outputId": "969be3e5-0d80-4255-c3de-015b9a859852"
      },
      "execution_count": null,
      "outputs": [
        {
          "output_type": "stream",
          "name": "stdout",
          "text": [
            "📊 Random Forest Evaluation Metrics:\n",
            "\n",
            "              precision    recall  f1-score   support\n",
            "\n",
            "           0       0.97      1.00      0.98     84264\n",
            "           1       1.00      0.99      0.99    301189\n",
            "\n",
            "    accuracy                           0.99    385453\n",
            "   macro avg       0.98      0.99      0.99    385453\n",
            "weighted avg       0.99      0.99      0.99    385453\n",
            "\n",
            "Confusion Matrix:\n",
            " [[ 83894    370]\n",
            " [  2734 298455]]\n",
            "Accuracy: 99.19%\n"
          ]
        }
      ]
    },
    {
      "cell_type": "code",
      "source": [
        "import seaborn as sns\n",
        "import matplotlib.pyplot as plt\n",
        "from sklearn.metrics import confusion_matrix\n",
        "\n",
        "# Generate confusion matrix\n",
        "cm = confusion_matrix(y_test, y_pred_rf)\n",
        "labels = ['Normal (0)', 'Attack (1)']\n",
        "\n",
        "# Plot using seaborn\n",
        "plt.figure(figsize=(6, 4))\n",
        "sns.heatmap(cm, annot=True, fmt='d', cmap='Blues',\n",
        "            xticklabels=labels, yticklabels=labels)\n",
        "plt.title(\"Random Forest - Confusion Matrix\")\n",
        "plt.xlabel(\"Predicted Label\")\n",
        "plt.ylabel(\"True Label\")\n",
        "plt.show()\n"
      ],
      "metadata": {
        "colab": {
          "base_uri": "https://localhost:8080/",
          "height": 410
        },
        "id": "dga6EnpcYClM",
        "outputId": "d04ef538-5f38-49f4-e6dd-5277b87befb3"
      },
      "execution_count": null,
      "outputs": [
        {
          "output_type": "display_data",
          "data": {
            "text/plain": [
              "<Figure size 600x400 with 2 Axes>"
            ],
            "image/png": "[encoded data removed]"
          },
          "metadata": {}
        }
      ]
    },
    {
      "cell_type": "markdown",
      "source": [
        "# XGBoost"
      ],
      "metadata": {
        "id": "KPMSi5RdYVjz"
      }
    },
    {
      "cell_type": "code",
      "source": [
        "from xgboost import XGBClassifier\n",
        "from sklearn.metrics import classification_report, confusion_matrix, accuracy_score\n",
        "\n",
        "# Step 8: Train XGBoost model\n",
        "xgb = XGBClassifier(\n",
        "    use_label_encoder=False,\n",
        "    eval_metric='logloss',\n",
        "    n_estimators=200,        # increased for better learning\n",
        "    max_depth=10,            # controls model complexity\n",
        "    learning_rate=0.1,       # standard learning rate\n",
        "    subsample=0.8,           # random row sampling\n",
        "    colsample_bytree=0.8,    # random feature sampling\n",
        "    random_state=42,\n",
        "    n_jobs=-1\n",
        ")\n",
        "\n",
        "xgb.fit(X_train, y_train)\n",
        "\n",
        "# Predict\n",
        "y_pred_xgb = xgb.predict(X_test)\n",
        "\n",
        "# Evaluation\n",
        "print(\"📊 XGBoost Evaluation Metrics:\\n\")\n",
        "print(classification_report(y_test, y_pred_xgb))\n",
        "print(\"Confusion Matrix:\\n\", confusion_matrix(y_test, y_pred_xgb))\n",
        "print(\"Accuracy: {:.2f}%\".format(accuracy_score(y_test, y_pred_xgb) * 100))\n"
      ],
      "metadata": {
        "colab": {
          "base_uri": "https://localhost:8080/"
        },
        "id": "Dr3w5kzbYUmf",
        "outputId": "810f1205-fffe-40ff-9568-1a23572e34d1"
      },
      "execution_count": null,
      "outputs": [
        {
          "output_type": "stream",
          "name": "stderr",
          "text": [
            "/usr/local/lib/python3.11/dist-packages/xgboost/core.py:158: UserWarning: [14:12:33] WARNING: /workspace/src/learner.cc:740: \n",
            "Parameters: { \"use_label_encoder\" } are not used.\n",
            "\n",
            "  warnings.warn(smsg, UserWarning)\n"
          ]
        },
        {
          "output_type": "stream",
          "name": "stdout",
          "text": [
            "📊 XGBoost Evaluation Metrics:\n",
            "\n",
            "              precision    recall  f1-score   support\n",
            "\n",
            "           0       0.98      0.98      0.98     84264\n",
            "           1       0.99      0.99      0.99    301189\n",
            "\n",
            "    accuracy                           0.99    385453\n",
            "   macro avg       0.99      0.99      0.99    385453\n",
            "weighted avg       0.99      0.99      0.99    385453\n",
            "\n",
            "Confusion Matrix:\n",
            " [[ 82547   1717]\n",
            " [  1882 299307]]\n",
            "Accuracy: 99.07%\n"
          ]
        }
      ]
    },
    {
      "cell_type": "code",
      "source": [
        "# Confusion matrix heatmap for XGBoost\n",
        "cm = confusion_matrix(y_test, y_pred_xgb)\n",
        "plt.figure(figsize=(6, 4))\n",
        "sns.heatmap(cm, annot=True, fmt='d', cmap='Greens',\n",
        "            xticklabels=['Normal (0)', 'Attack (1)'],\n",
        "            yticklabels=['Normal (0)', 'Attack (1)'])\n",
        "plt.title(\"XGBoost - Confusion Matrix\")\n",
        "plt.xlabel(\"Predicted Label\")\n",
        "plt.ylabel(\"True Label\")\n",
        "plt.show()\n"
      ],
      "metadata": {
        "colab": {
          "base_uri": "https://localhost:8080/",
          "height": 410
        },
        "id": "c-yql-rtY-_n",
        "outputId": "da7621ef-b74b-4a56-e239-1797c09bceb1"
      },
      "execution_count": null,
      "outputs": [
        {
          "output_type": "display_data",
          "data": {
            "text/plain": [
              "<Figure size 600x400 with 2 Axes>"
            ],
            "image/png": "[encoded data removed]"
          },
          "metadata": {}
        }
      ]
    },
    {
      "cell_type": "markdown",
      "source": [
        "# DNN"
      ],
      "metadata": {
        "id": "LMOaJPy8ZAlb"
      }
    },
    {
      "cell_type": "code",
      "source": [
        "from tensorflow.keras.models import Sequential\n",
        "from tensorflow.keras.layers import Dense, Dropout\n",
        "from tensorflow.keras.callbacks import EarlyStopping\n",
        "from sklearn.metrics import classification_report, confusion_matrix, accuracy_score\n",
        "\n",
        "# Step 9: Build and compile the model\n",
        "dnn = Sequential([\n",
        "    Dense(128, activation='relu', input_shape=(X_train.shape[1],)),\n",
        "    Dropout(0.3),\n",
        "    Dense(64, activation='relu'),\n",
        "    Dropout(0.3),\n",
        "    Dense(32, activation='relu'),\n",
        "    Dense(1, activation='sigmoid')\n",
        "])\n",
        "\n",
        "dnn.compile(optimizer='adam', loss='binary_crossentropy', metrics=['accuracy'])\n",
        "\n",
        "# Early stopping to prevent overfitting\n",
        "early_stop = EarlyStopping(monitor='val_loss', patience=3, restore_best_weights=True)\n",
        "\n",
        "# Train the model\n",
        "history = dnn.fit(\n",
        "    X_train, y_train,\n",
        "    validation_split=0.2,\n",
        "    epochs=15,\n",
        "    batch_size=512,\n",
        "    callbacks=[early_stop],\n",
        "    verbose=1\n",
        ")\n",
        "\n",
        "# Predict on test data\n",
        "y_pred_dnn = (dnn.predict(X_test) > 0.5).astype(int)\n",
        "\n",
        "# Evaluation\n",
        "print(\"📊 DNN Evaluation Metrics:\\n\")\n",
        "print(classification_report(y_test, y_pred_dnn))\n",
        "print(\"Confusion Matrix:\\n\", confusion_matrix(y_test, y_pred_dnn))\n",
        "print(\"Accuracy: {:.2f}%\".format(accuracy_score(y_test, y_pred_dnn) * 100))\n",
        "\n"
      ],
      "metadata": {
        "colab": {
          "base_uri": "https://localhost:8080/"
        },
        "id": "6PwIGTtiZJN2",
        "outputId": "3a09fde8-7830-488f-d5ad-249400a15653"
      },
      "execution_count": null,
      "outputs": [
        {
          "output_type": "stream",
          "name": "stdout",
          "text": [
            "Epoch 1/15\n",
            "\u001b[1m2410/2410\u001b[0m \u001b[32m━━━━━━━━━━━━━━━━━━━━\u001b[0m\u001b[37m\u001b[0m \u001b[1m37s\u001b[0m 12ms/step - accuracy: 0.9306 - loss: 0.1647 - val_accuracy: 0.9639 - val_loss: 0.0850\n",
            "Epoch 2/15\n",
            "\u001b[1m2410/2410\u001b[0m \u001b[32m━━━━━━━━━━━━━━━━━━━━\u001b[0m\u001b[37m\u001b[0m \u001b[1m45s\u001b[0m 14ms/step - accuracy: 0.9617 - loss: 0.0896 - val_accuracy: 0.9666 - val_loss: 0.0759\n",
            "Epoch 3/15\n",
            "\u001b[1m2410/2410\u001b[0m \u001b[32m━━━━━━━━━━━━━━━━━━━━\u001b[0m\u001b[37m\u001b[0m \u001b[1m35s\u001b[0m 11ms/step - accuracy: 0.9659 - loss: 0.0812 - val_accuracy: 0.9762 - val_loss: 0.0603\n",
            "Epoch 4/15\n",
            "\u001b[1m2410/2410\u001b[0m \u001b[32m━━━━━━━━━━━━━━━━━━━━\u001b[0m\u001b[37m\u001b[0m \u001b[1m29s\u001b[0m 12ms/step - accuracy: 0.9728 - loss: 0.0684 - val_accuracy: 0.9794 - val_loss: 0.0547\n",
            "Epoch 5/15\n",
            "\u001b[1m2410/2410\u001b[0m \u001b[32m━━━━━━━━━━━━━━━━━━━━\u001b[0m\u001b[37m\u001b[0m \u001b[1m27s\u001b[0m 11ms/step - accuracy: 0.9758 - loss: 0.0626 - val_accuracy: 0.9806 - val_loss: 0.0509\n",
            "Epoch 6/15\n",
            "\u001b[1m2410/2410\u001b[0m \u001b[32m━━━━━━━━━━━━━━━━━━━━\u001b[0m\u001b[37m\u001b[0m \u001b[1m34s\u001b[0m 14ms/step - accuracy: 0.9771 - loss: 0.0589 - val_accuracy: 0.9821 - val_loss: 0.0474\n",
            "Epoch 7/15\n",
            "\u001b[1m2410/2410\u001b[0m \u001b[32m━━━━━━━━━━━━━━━━━━━━\u001b[0m\u001b[37m\u001b[0m \u001b[1m44s\u001b[0m 18ms/step - accuracy: 0.9784 - loss: 0.0559 - val_accuracy: 0.9813 - val_loss: 0.0478\n",
            "Epoch 8/15\n",
            "\u001b[1m2410/2410\u001b[0m \u001b[32m━━━━━━━━━━━━━━━━━━━━\u001b[0m\u001b[37m\u001b[0m \u001b[1m81s\u001b[0m 18ms/step - accuracy: 0.9785 - loss: 0.0553 - val_accuracy: 0.9819 - val_loss: 0.0460\n",
            "Epoch 9/15\n",
            "\u001b[1m2410/2410\u001b[0m \u001b[32m━━━━━━━━━━━━━━━━━━━━\u001b[0m\u001b[37m\u001b[0m \u001b[1m45s\u001b[0m 19ms/step - accuracy: 0.9789 - loss: 0.0544 - val_accuracy: 0.9822 - val_loss: 0.0459\n",
            "Epoch 10/15\n",
            "\u001b[1m2410/2410\u001b[0m \u001b[32m━━━━━━━━━━━━━━━━━━━━\u001b[0m\u001b[37m\u001b[0m \u001b[1m44s\u001b[0m 18ms/step - accuracy: 0.9792 - loss: 0.0532 - val_accuracy: 0.9825 - val_loss: 0.0449\n",
            "Epoch 11/15\n",
            "\u001b[1m2410/2410\u001b[0m \u001b[32m━━━━━━━━━━━━━━━━━━━━\u001b[0m\u001b[37m\u001b[0m \u001b[1m84s\u001b[0m 19ms/step - accuracy: 0.9795 - loss: 0.0528 - val_accuracy: 0.9822 - val_loss: 0.0444\n",
            "Epoch 12/15\n",
            "\u001b[1m2410/2410\u001b[0m \u001b[32m━━━━━━━━━━━━━━━━━━━━\u001b[0m\u001b[37m\u001b[0m \u001b[1m44s\u001b[0m 18ms/step - accuracy: 0.9798 - loss: 0.0521 - val_accuracy: 0.9824 - val_loss: 0.0444\n",
            "Epoch 13/15\n",
            "\u001b[1m2410/2410\u001b[0m \u001b[32m━━━━━━━━━━━━━━━━━━━━\u001b[0m\u001b[37m\u001b[0m \u001b[1m83s\u001b[0m 19ms/step - accuracy: 0.9801 - loss: 0.0512 - val_accuracy: 0.9834 - val_loss: 0.0440\n",
            "Epoch 14/15\n",
            "\u001b[1m2410/2410\u001b[0m \u001b[32m━━━━━━━━━━━━━━━━━━━━\u001b[0m\u001b[37m\u001b[0m \u001b[1m44s\u001b[0m 18ms/step - accuracy: 0.9800 - loss: 0.0513 - val_accuracy: 0.9819 - val_loss: 0.0448\n",
            "Epoch 15/15\n",
            "\u001b[1m2405/2410\u001b[0m \u001b[32m━━━━━━━━━━━━━━━━━━━\u001b[0m\u001b[37m━\u001b[0m \u001b[1m0s\u001b[0m 17ms/step - accuracy: 0.9803 - loss: 0.0511"
          ]
        }
      ]
    },
    {
      "cell_type": "code",
      "source": [
        "# Confusion matrix for DNN\n",
        "cm = confusion_matrix(y_test, y_pred_dnn)\n",
        "plt.figure(figsize=(6, 4))\n",
        "sns.heatmap(cm, annot=True, fmt='d', cmap='Oranges',\n",
        "            xticklabels=['Normal (0)', 'Attack (1)'],\n",
        "            yticklabels=['Normal (0)', 'Attack (1)'])\n",
        "plt.title(\"DNN - Confusion Matrix\")\n",
        "plt.xlabel(\"Predicted Label\")\n",
        "plt.ylabel(\"True Label\")\n",
        "plt.show()\n"
      ],
      "metadata": {
        "colab": {
          "base_uri": "https://localhost:8080/",
          "height": 410
        },
        "id": "kTSBEeBUbVZ2",
        "outputId": "bebbb5b9-d04f-4820-846b-7484ad928d19"
      },
      "execution_count": null,
      "outputs": [
        {
          "output_type": "display_data",
          "data": {
            "text/plain": [
              "<Figure size 600x400 with 2 Axes>"
            ],
            "image/png": "[encoded data removed]"
          },
          "metadata": {}
        }
      ]
    },
    {
      "cell_type": "markdown",
      "source": [
        "# Autoencoder + DNN (Hybrid)"
      ],
      "metadata": {
        "id": "FhM3Jagfdf7o"
      }
    },
    {
      "cell_type": "code",
      "source": [
        "from tensorflow.keras.models import Model\n",
        "from tensorflow.keras.layers import Input, Dense\n",
        "\n",
        "# Define input shape\n",
        "input_dim = X_train.shape[1]\n",
        "\n",
        "# Step 10A: Build the Autoencoder\n",
        "input_layer = Input(shape=(input_dim,))\n",
        "encoded = Dense(64, activation='relu')(input_layer)\n",
        "encoded = Dense(32, activation='relu')(encoded)\n",
        "\n",
        "decoded = Dense(64, activation='relu')(encoded)\n",
        "decoded = Dense(input_dim, activation='linear')(decoded)\n",
        "\n",
        "# Compile and train AE\n",
        "autoencoder = Model(inputs=input_layer, outputs=decoded)\n",
        "autoencoder.compile(optimizer='adam', loss='mse')\n",
        "\n",
        "# Fit the autoencoder on X_train\n",
        "autoencoder.fit(X_train, X_train,\n",
        "                epochs=10,\n",
        "                batch_size=512,\n",
        "                shuffle=True,\n",
        "                validation_split=0.2,\n",
        "                verbose=1)\n"
      ],
      "metadata": {
        "colab": {
          "base_uri": "https://localhost:8080/"
        },
        "id": "TxjrtUj_dhE8",
        "outputId": "1ccefbfd-cf3d-4d17-e206-868e939ba8f9"
      },
      "execution_count": null,
      "outputs": [
        {
          "output_type": "stream",
          "name": "stdout",
          "text": [
            "Epoch 1/10\n",
            "\u001b[1m2410/2410\u001b[0m \u001b[32m━━━━━━━━━━━━━━━━━━━━\u001b[0m\u001b[37m\u001b[0m \u001b[1m34s\u001b[0m 13ms/step - loss: 0.0592 - val_loss: 3.1746e-04\n",
            "Epoch 2/10\n",
            "\u001b[1m2410/2410\u001b[0m \u001b[32m━━━━━━━━━━━━━━━━━━━━\u001b[0m\u001b[37m\u001b[0m \u001b[1m39s\u001b[0m 12ms/step - loss: 6.4339e-04 - val_loss: 4.1797e-04\n",
            "Epoch 3/10\n",
            "\u001b[1m2410/2410\u001b[0m \u001b[32m━━━━━━━━━━━━━━━━━━━━\u001b[0m\u001b[37m\u001b[0m \u001b[1m29s\u001b[0m 7ms/step - loss: 3.7896e-04 - val_loss: 1.7708e-04\n",
            "Epoch 4/10\n",
            "\u001b[1m2410/2410\u001b[0m \u001b[32m━━━━━━━━━━━━━━━━━━━━\u001b[0m\u001b[37m\u001b[0m \u001b[1m21s\u001b[0m 7ms/step - loss: 2.1913e-04 - val_loss: 5.2236e-04\n",
            "Epoch 5/10\n",
            "\u001b[1m2410/2410\u001b[0m \u001b[32m━━━━━━━━━━━━━━━━━━━━\u001b[0m\u001b[37m\u001b[0m \u001b[1m15s\u001b[0m 6ms/step - loss: 3.7458e-04 - val_loss: 9.4265e-05\n",
            "Epoch 6/10\n",
            "\u001b[1m2410/2410\u001b[0m \u001b[32m━━━━━━━━━━━━━━━━━━━━\u001b[0m\u001b[37m\u001b[0m \u001b[1m17s\u001b[0m 7ms/step - loss: 2.0184e-04 - val_loss: 2.6967e-04\n",
            "Epoch 7/10\n",
            "\u001b[1m2410/2410\u001b[0m \u001b[32m━━━━━━━━━━━━━━━━━━━━\u001b[0m\u001b[37m\u001b[0m \u001b[1m19s\u001b[0m 6ms/step - loss: 1.7891e-04 - val_loss: 2.3077e-04\n",
            "Epoch 8/10\n",
            "\u001b[1m2410/2410\u001b[0m \u001b[32m━━━━━━━━━━━━━━━━━━━━\u001b[0m\u001b[37m\u001b[0m \u001b[1m21s\u001b[0m 6ms/step - loss: 2.2449e-04 - val_loss: 1.7362e-04\n",
            "Epoch 9/10\n",
            "\u001b[1m2410/2410\u001b[0m \u001b[32m━━━━━━━━━━━━━━━━━━━━\u001b[0m\u001b[37m\u001b[0m \u001b[1m22s\u001b[0m 7ms/step - loss: 2.6433e-04 - val_loss: 6.1301e-05\n",
            "Epoch 10/10\n",
            "\u001b[1m2410/2410\u001b[0m \u001b[32m━━━━━━━━━━━━━━━━━━━━\u001b[0m\u001b[37m\u001b[0m \u001b[1m18s\u001b[0m 6ms/step - loss: 1.1389e-04 - val_loss: 6.7129e-05\n"
          ]
        },
        {
          "output_type": "execute_result",
          "data": {
            "text/plain": [
              "<keras.src.callbacks.history.History at 0x7d973aefbf90>"
            ]
          },
          "metadata": {},
          "execution_count": 23
        }
      ]
    },
    {
      "cell_type": "code",
      "source": [
        "# Extract encoder part only\n",
        "encoder = Model(inputs=input_layer, outputs=encoded)\n",
        "\n",
        "# Compress the train and test sets\n",
        "X_train_encoded = encoder.predict(X_train)\n",
        "X_test_encoded = encoder.predict(X_test)\n"
      ],
      "metadata": {
        "colab": {
          "base_uri": "https://localhost:8080/"
        },
        "id": "0Ih7EWKzdlML",
        "outputId": "ba817e22-e881-4372-fe43-68678a3ca2da"
      },
      "execution_count": null,
      "outputs": [
        {
          "output_type": "stream",
          "name": "stdout",
          "text": [
            "\u001b[1m48182/48182\u001b[0m \u001b[32m━━━━━━━━━━━━━━━━━━━━\u001b[0m\u001b[37m\u001b[0m \u001b[1m126s\u001b[0m 3ms/step\n",
            "\u001b[1m12046/12046\u001b[0m \u001b[32m━━━━━━━━━━━━━━━━━━━━\u001b[0m\u001b[37m\u001b[0m \u001b[1m25s\u001b[0m 2ms/step\n"
          ]
        }
      ]
    },
    {
      "cell_type": "code",
      "source": [
        "# Build the DNN classifier on top of AE-compressed data\n",
        "clf = Sequential([\n",
        "    Dense(64, activation='relu', input_shape=(X_train_encoded.shape[1],)),\n",
        "    Dropout(0.3),\n",
        "    Dense(32, activation='relu'),\n",
        "    Dense(1, activation='sigmoid')\n",
        "])\n",
        "\n",
        "clf.compile(optimizer='adam', loss='binary_crossentropy', metrics=['accuracy'])\n",
        "\n",
        "# Train the classifier\n",
        "clf.fit(X_train_encoded, y_train,\n",
        "        epochs=10,\n",
        "        batch_size=512,\n",
        "        validation_split=0.2,\n",
        "        verbose=1)\n"
      ],
      "metadata": {
        "colab": {
          "base_uri": "https://localhost:8080/"
        },
        "id": "arcKDk-8dn-J",
        "outputId": "f09fa025-0cbb-4acb-d899-76f51bb84625"
      },
      "execution_count": null,
      "outputs": [
        {
          "output_type": "stream",
          "name": "stderr",
          "text": [
            "/usr/local/lib/python3.11/dist-packages/keras/src/layers/core/dense.py:87: UserWarning: Do not pass an `input_shape`/`input_dim` argument to a layer. When using Sequential models, prefer using an `Input(shape)` object as the first layer in the model instead.\n",
            "  super().__init__(activity_regularizer=activity_regularizer, **kwargs)\n"
          ]
        },
        {
          "output_type": "stream",
          "name": "stdout",
          "text": [
            "Epoch 1/10\n",
            "\u001b[1m2410/2410\u001b[0m \u001b[32m━━━━━━━━━━━━━━━━━━━━\u001b[0m\u001b[37m\u001b[0m \u001b[1m23s\u001b[0m 8ms/step - accuracy: 0.9201 - loss: 0.1929 - val_accuracy: 0.9579 - val_loss: 0.0996\n",
            "Epoch 2/10\n",
            "\u001b[1m2410/2410\u001b[0m \u001b[32m━━━━━━━━━━━━━━━━━━━━\u001b[0m\u001b[37m\u001b[0m \u001b[1m20s\u001b[0m 8ms/step - accuracy: 0.9557 - loss: 0.1051 - val_accuracy: 0.9642 - val_loss: 0.0872\n",
            "Epoch 3/10\n",
            "\u001b[1m2410/2410\u001b[0m \u001b[32m━━━━━━━━━━━━━━━━━━━━\u001b[0m\u001b[37m\u001b[0m \u001b[1m20s\u001b[0m 8ms/step - accuracy: 0.9600 - loss: 0.0945 - val_accuracy: 0.9652 - val_loss: 0.0838\n",
            "Epoch 4/10\n",
            "\u001b[1m2410/2410\u001b[0m \u001b[32m━━━━━━━━━━━━━━━━━━━━\u001b[0m\u001b[37m\u001b[0m \u001b[1m20s\u001b[0m 8ms/step - accuracy: 0.9622 - loss: 0.0891 - val_accuracy: 0.9668 - val_loss: 0.0787\n",
            "Epoch 5/10\n",
            "\u001b[1m2410/2410\u001b[0m \u001b[32m━━━━━━━━━━━━━━━━━━━━\u001b[0m\u001b[37m\u001b[0m \u001b[1m20s\u001b[0m 8ms/step - accuracy: 0.9643 - loss: 0.0853 - val_accuracy: 0.9691 - val_loss: 0.0749\n",
            "Epoch 6/10\n",
            "\u001b[1m2410/2410\u001b[0m \u001b[32m━━━━━━━━━━━━━━━━━━━━\u001b[0m\u001b[37m\u001b[0m \u001b[1m20s\u001b[0m 8ms/step - accuracy: 0.9666 - loss: 0.0814 - val_accuracy: 0.9700 - val_loss: 0.0722\n",
            "Epoch 7/10\n",
            "\u001b[1m2410/2410\u001b[0m \u001b[32m━━━━━━━━━━━━━━━━━━━━\u001b[0m\u001b[37m\u001b[0m \u001b[1m20s\u001b[0m 7ms/step - accuracy: 0.9679 - loss: 0.0789 - val_accuracy: 0.9734 - val_loss: 0.0678\n",
            "Epoch 8/10\n",
            "\u001b[1m2410/2410\u001b[0m \u001b[32m━━━━━━━━━━━━━━━━━━━━\u001b[0m\u001b[37m\u001b[0m \u001b[1m21s\u001b[0m 8ms/step - accuracy: 0.9690 - loss: 0.0767 - val_accuracy: 0.9724 - val_loss: 0.0683\n",
            "Epoch 9/10\n",
            "\u001b[1m2410/2410\u001b[0m \u001b[32m━━━━━━━━━━━━━━━━━━━━\u001b[0m\u001b[37m\u001b[0m \u001b[1m19s\u001b[0m 7ms/step - accuracy: 0.9695 - loss: 0.0756 - val_accuracy: 0.9752 - val_loss: 0.0654\n",
            "Epoch 10/10\n",
            "\u001b[1m2410/2410\u001b[0m \u001b[32m━━━━━━━━━━━━━━━━━━━━\u001b[0m\u001b[37m\u001b[0m \u001b[1m18s\u001b[0m 7ms/step - accuracy: 0.9700 - loss: 0.0744 - val_accuracy: 0.9744 - val_loss: 0.0637\n"
          ]
        },
        {
          "output_type": "execute_result",
          "data": {
            "text/plain": [
              "<keras.src.callbacks.history.History at 0x7d9690c43f90>"
            ]
          },
          "metadata": {},
          "execution_count": 25
        }
      ]
    },
    {
      "cell_type": "code",
      "source": [
        "# Predict on test data\n",
        "y_pred_ae = (clf.predict(X_test_encoded) > 0.5).astype(int)\n",
        "\n",
        "# Evaluation\n",
        "print(\"📊 AE + DNN Evaluation Metrics:\\n\")\n",
        "print(classification_report(y_test, y_pred_ae))\n",
        "print(\"Confusion Matrix:\\n\", confusion_matrix(y_test, y_pred_ae))\n",
        "print(\"Accuracy: {:.2f}%\".format(accuracy_score(y_test, y_pred_ae) * 100))\n"
      ],
      "metadata": {
        "colab": {
          "base_uri": "https://localhost:8080/"
        },
        "id": "xqyMCK-rdqnd",
        "outputId": "c9206fb7-ec95-4b2f-f136-549601d04e4d"
      },
      "execution_count": null,
      "outputs": [
        {
          "output_type": "stream",
          "name": "stdout",
          "text": [
            "\u001b[1m12046/12046\u001b[0m \u001b[32m━━━━━━━━━━━━━━━━━━━━\u001b[0m\u001b[37m\u001b[0m \u001b[1m23s\u001b[0m 2ms/step\n",
            "📊 AE + DNN Evaluation Metrics:\n",
            "\n",
            "              precision    recall  f1-score   support\n",
            "\n",
            "           0       0.93      0.96      0.94     84264\n",
            "           1       0.99      0.98      0.98    301189\n",
            "\n",
            "    accuracy                           0.97    385453\n",
            "   macro avg       0.96      0.97      0.96    385453\n",
            "weighted avg       0.97      0.97      0.97    385453\n",
            "\n",
            "Confusion Matrix:\n",
            " [[ 80638   3626]\n",
            " [  6521 294668]]\n",
            "Accuracy: 97.37%\n"
          ]
        }
      ]
    },
    {
      "cell_type": "code",
      "source": [
        "cm = confusion_matrix(y_test, y_pred_ae)\n",
        "plt.figure(figsize=(6, 4))\n",
        "sns.heatmap(cm, annot=True, fmt='d', cmap='Purples',\n",
        "            xticklabels=['Normal (0)', 'Attack (1)'],\n",
        "            yticklabels=['Normal (0)', 'Attack (1)'])\n",
        "plt.title(\"Autoencoder + DNN - Confusion Matrix\")\n",
        "plt.xlabel(\"Predicted Label\")\n",
        "plt.ylabel(\"True Label\")\n",
        "plt.show()\n"
      ],
      "metadata": {
        "colab": {
          "base_uri": "https://localhost:8080/",
          "height": 410
        },
        "id": "_geTSTOVd0U4",
        "outputId": "021b8b31-d714-4d51-edf0-0acfe42a52b7"
      },
      "execution_count": null,
      "outputs": [
        {
          "output_type": "display_data",
          "data": {
            "text/plain": [
              "<Figure size 600x400 with 2 Axes>"
            ],
            "image/png": "[encoded data removed]"
          },
          "metadata": {}
        }
      ]
    },
    {
      "cell_type": "markdown",
      "source": [
        "# LightGBM Classifier"
      ],
      "metadata": {
        "id": "dsQK1TS9hn-Z"
      }
    },
    {
      "cell_type": "code",
      "source": [
        "import lightgbm as lgb\n",
        "from sklearn.metrics import classification_report, confusion_matrix, accuracy_score\n",
        "\n",
        "# Step 11A: Create LightGBM dataset\n",
        "train_data = lgb.Dataset(X_train, label=y_train)\n",
        "test_data = lgb.Dataset(X_test, label=y_test)\n",
        "\n",
        "# Step 11B: Set parameters\n",
        "params = {\n",
        "    'objective': 'binary',\n",
        "    'metric': 'binary_logloss',\n",
        "    'boosting_type': 'gbdt',\n",
        "    'num_leaves': 64,\n",
        "    'learning_rate': 0.05,\n",
        "    'verbose': -1,\n",
        "    'n_jobs': -1,\n",
        "    'seed': 42\n",
        "}\n",
        "\n",
        "# Step 11C: Train LightGBM model\n",
        "lgbm_model = lgb.train(params, train_data, num_boost_round=200)\n",
        "\n",
        "# Step 11D: Predict\n",
        "y_pred_lgb = (lgbm_model.predict(X_test) > 0.5).astype(int)\n",
        "\n",
        "# Step 11E: Evaluation\n",
        "print(\"📊 LightGBM Evaluation Metrics:\\n\")\n",
        "print(classification_report(y_test, y_pred_lgb))\n",
        "print(\"Confusion Matrix:\\n\", confusion_matrix(y_test, y_pred_lgb))\n",
        "print(\"Accuracy: {:.2f}%\".format(accuracy_score(y_test, y_pred_lgb) * 100))\n"
      ],
      "metadata": {
        "colab": {
          "base_uri": "https://localhost:8080/"
        },
        "id": "Y8kBU72mhqOP",
        "outputId": "35e0e716-e413-4b0e-aafd-905cb25537e1"
      },
      "execution_count": null,
      "outputs": [
        {
          "output_type": "stream",
          "name": "stdout",
          "text": [
            "📊 LightGBM Evaluation Metrics:\n",
            "\n",
            "              precision    recall  f1-score   support\n",
            "\n",
            "           0       0.98      0.98      0.98     84264\n",
            "           1       0.99      0.99      0.99    301189\n",
            "\n",
            "    accuracy                           0.99    385453\n",
            "   macro avg       0.99      0.99      0.99    385453\n",
            "weighted avg       0.99      0.99      0.99    385453\n",
            "\n",
            "Confusion Matrix:\n",
            " [[ 82554   1710]\n",
            " [  2006 299183]]\n",
            "Accuracy: 99.04%\n"
          ]
        }
      ]
    },
    {
      "cell_type": "markdown",
      "source": [
        "# Comparission of models"
      ],
      "metadata": {
        "id": "Eng5WlmQnWUD"
      }
    },
    {
      "cell_type": "code",
      "source": [
        "import matplotlib.pyplot as plt\n",
        "import numpy as np\n",
        "\n",
        "# Model names\n",
        "models = ['Random Forest', 'XGBoost', 'DNN', 'AE + DNN', 'LightGBM']\n",
        "\n",
        "# Metrics for Class 1 (Attack)\n",
        "accuracy = [99.19, 99.07, 98.16, 97.37, 99.04]\n",
        "f1_score = [0.99, 0.99, 0.99, 0.98, 0.99]\n",
        "precision = [1.00, 0.99, 0.99, 0.99, 0.99]\n",
        "\n",
        "# Convert f1/precision to percentages\n",
        "f1_score = [x * 100 for x in f1_score]\n",
        "precision = [x * 100 for x in precision]\n",
        "\n",
        "# Bar chart parameters\n",
        "x = np.arange(len(models))\n",
        "width = 0.25\n",
        "\n",
        "# Create plot\n",
        "plt.figure(figsize=(12, 6))\n",
        "bars1 = plt.bar(x - width, accuracy, width, label='Accuracy', color='#4CAF50')\n",
        "bars2 = plt.bar(x, f1_score, width, label='F1-Score (Attack)', color='#2196F3')\n",
        "bars3 = plt.bar(x + width, precision, width, label='Precision (Attack)', color='#FF9800')\n",
        "\n",
        "# Annotate bars\n",
        "def annotate(bars):\n",
        "    for bar in bars:\n",
        "        height = bar.get_height()\n",
        "        plt.text(bar.get_x() + bar.get_width()/2., height + 0.5, f'{height:.2f}%', ha='center', va='bottom', fontsize=10)\n",
        "\n",
        "annotate(bars1)\n",
        "annotate(bars2)\n",
        "annotate(bars3)\n",
        "\n",
        "# Styling\n",
        "plt.title('Model Performance Comparison (Attack Class)', fontsize=16)\n",
        "plt.xlabel('Models', fontsize=13)\n",
        "plt.ylabel('Percentage (%)', fontsize=13)\n",
        "plt.xticks(x, models, rotation=15, fontsize=11)\n",
        "plt.ylim(95, 101)\n",
        "plt.grid(axis='y', linestyle='--', alpha=0.5)\n",
        "plt.legend()\n",
        "plt.tight_layout()\n",
        "plt.show()\n"
      ],
      "metadata": {
        "colab": {
          "base_uri": "https://localhost:8080/",
          "height": 591
        },
        "id": "9imozXvAnZad",
        "outputId": "bb73dc9b-ff5e-4765-f311-3ec2cc253112"
      },
      "execution_count": 4,
      "outputs": [
        {
          "output_type": "display_data",
          "data": {
            "text/plain": [
              "<Figure size 1200x600 with 1 Axes>"
            ],
            "image/png": "[encoded data removed]"
          },
          "metadata": {}
        }
      ]
    }
  ]
}